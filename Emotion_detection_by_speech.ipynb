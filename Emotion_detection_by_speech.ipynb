{
  "nbformat": 4,
  "nbformat_minor": 0,
  "metadata": {
    "colab": {
      "provenance": [],
      "authorship_tag": "ABX9TyMBQaI9jBhC91I6aJKq4pPV",
      "include_colab_link": true
    },
    "kernelspec": {
      "name": "python3",
      "display_name": "Python 3"
    },
    "language_info": {
      "name": "python"
    }
  },
  "cells": [
    {
      "cell_type": "markdown",
      "metadata": {
        "id": "view-in-github",
        "colab_type": "text"
      },
      "source": [
        "<a href=\"https://colab.research.google.com/github/AshvinVignesh/Emotion-Detection-By-Speech/blob/main/Emotion_detection_by_speech.ipynb\" target=\"_parent\"><img src=\"https://colab.research.google.com/assets/colab-badge.svg\" alt=\"Open In Colab\"/></a>"
      ]
    },
    {
      "cell_type": "code",
      "execution_count": null,
      "metadata": {
        "id": "RQddrZ1upH56"
      },
      "outputs": [],
      "source": [
        "import os\n",
        "import glob\n",
        "import pandas as pd\n",
        "import numpy as np\n",
        "import matplotlib.pyplot as plt\n",
        "import librosa as lr\n",
        "import os, glob, pickle\n",
        "from glob import glob\n",
        "import soundfile\n",
        "from sklearn.utils.class_weight import compute_class_weight\n",
        "from sklearn.model_selection import train_test_split\n",
        "from sklearn.neural_network import MLPClassifier\n",
        "from sklearn.metrics import accuracy_score"
      ]
    },
    {
      "cell_type": "code",
      "source": [
        "from google.colab import drive\n",
        "drive.mount(\"/content/gdrive\")"
      ],
      "metadata": {
        "colab": {
          "base_uri": "https://localhost:8080/"
        },
        "id": "fsRi3Immrftz",
        "outputId": "d940cd2c-bfdb-4a28-d471-a3591e68914c"
      },
      "execution_count": null,
      "outputs": [
        {
          "output_type": "stream",
          "name": "stdout",
          "text": [
            "Mounted at /content/gdrive\n"
          ]
        }
      ]
    },
    {
      "cell_type": "code",
      "source": [
        "os.listdir(path='/content/gdrive/My Drive/audio')\n",
        "def getListOfFiles(dirName):\n",
        "    listOfFile=os.listdir(dirName)\n",
        "    allFiles=list()\n",
        "    for entry in listOfFile:\n",
        "        fullPath=os.path.join(dirName, entry)\n",
        "        if os.path.isdir(fullPath):\n",
        "            allFiles=allFiles + getListOfFiles(fullPath)\n",
        "        else:\n",
        "            allFiles.append(fullPath)\n",
        "    return allFiles\n",
        "\n",
        "dirName = '/content/gdrive/My Drive/audio'\n",
        "listOfFiles = getListOfFiles(dirName)\n",
        "len(listOfFiles)"
      ],
      "metadata": {
        "colab": {
          "base_uri": "https://localhost:8080/"
        },
        "id": "FHY-W4BErrrz",
        "outputId": "d0c127b7-3201-4ebe-ef35-c3f0d97d34be"
      },
      "execution_count": null,
      "outputs": [
        {
          "output_type": "execute_result",
          "data": {
            "text/plain": [
              "1380"
            ]
          },
          "metadata": {},
          "execution_count": 3
        }
      ]
    },
    {
      "cell_type": "code",
      "source": [
        "#Now Cleaning Step is Performed where:\n",
        "#DOWN SAMPLING OF AUDIO FILES IS DONE  AND PUT MASK OVER IT AND DIRECT INTO CLEAN FOLDER\n",
        "#MASK IS TO REMOVE UNNECESSARY EMPTY VOIVES AROUND THE MAIN AUDIO VOICE \n",
        "def envelope(y , rate, threshold):\n",
        "    mask=[]\n",
        "    y=pd.Series(y).apply(np.abs)\n",
        "    y_mean = y.rolling(window=int(rate/10) ,  min_periods=1 , center = True).mean()\n",
        "    for mean in y_mean:\n",
        "        if mean>threshold:\n",
        "            mask.append(True)\n",
        "        else:\n",
        "            mask.append(False)\n",
        "    return mask"
      ],
      "metadata": {
        "id": "8BkJWIOgr__U"
      },
      "execution_count": null,
      "outputs": []
    },
    {
      "cell_type": "code",
      "source": [
        "#Feature Extraction of Audio Files Function \n",
        "#Extract features (mfcc, chroma, mel) from a sound file\n",
        "def extract_feature(file_name, mfcc, chroma, mel):\n",
        "    with soundfile.SoundFile(file_name) as sound_file:\n",
        "        X = sound_file.read(dtype=\"float32\")\n",
        "        sample_rate=sound_file.samplerate\n",
        "        if chroma:\n",
        "            stft=np.abs(librosa.stft(X))\n",
        "        result=np.array([])\n",
        "        if mfcc:\n",
        "            mfccs=np.mean(librosa.feature.mfcc(y=X, sr=sample_rate, n_mfcc=40).T, axis=0)\n",
        "        result=np.hstack((result, mfccs))\n",
        "        if chroma:\n",
        "            chroma=np.mean(librosa.feature.chroma_stft(S=stft, sr=sample_rate).T,axis=0)\n",
        "        result=np.hstack((result, chroma))\n",
        "        if mel:\n",
        "            mel=np.mean(librosa.feature.melspectrogram(X, sr=sample_rate).T,axis=0)\n",
        "        result=np.hstack((result, mel))\n",
        "    return result"
      ],
      "metadata": {
        "id": "tMxwcgoYsvu6"
      },
      "execution_count": null,
      "outputs": []
    },
    {
      "cell_type": "code",
      "source": [
        "#Emotions in the RAVDESS dataset to be classified Audio Files based on . \n",
        "emotions={\n",
        "  '01':'neutral',\n",
        "  '02':'calm',\n",
        "  '03':'happy',\n",
        "  '04':'sad',\n",
        "  '05':'angry',\n",
        "  '06':'fearful',\n",
        "  '07':'disgust',\n",
        "  '08':'surprised'\n",
        "}\n",
        "#These are the emotions User wants to observe more :\n",
        "observed_emotions=['calm', 'happy', 'fearful', 'disgust']"
      ],
      "metadata": {
        "id": "2dwMYhkNsz9N"
      },
      "execution_count": null,
      "outputs": []
    },
    {
      "cell_type": "code",
      "source": [
        "#Load the data and extract features for each sound file\n",
        "from glob import glob\n",
        "import os\n",
        "import glob\n",
        "def load_data(test_size=0.15):\n",
        "    x,y=[],[]\n",
        "    answer = 0\n",
        "    for file in glob.glob(r'/content/gdrive/My Drive/cleanAudio//*.wav'):\n",
        "        file_name=os.path.basename(file)\n",
        "        emotion=emotions[file_name.split(\"-\")[2]]\n",
        "        if emotion not in observed_emotions:\n",
        "            answer += 1\n",
        "            continue\n",
        "        feature=extract_feature(file, mfcc=True, chroma=True, mel=True)\n",
        "        x.append(feature)\n",
        "        y.append([emotion,file_name])\n",
        "    return train_test_split(np.array(x), y, test_size=test_size, random_state=9)"
      ],
      "metadata": {
        "id": "T-EPRWFEsWPG"
      },
      "execution_count": null,
      "outputs": []
    },
    {
      "cell_type": "code",
      "source": [
        "#Split the dataset\n",
        "import librosa\n",
        "import numpy as np\n",
        "x_train,x_test,y_trai,y_tes=load_data(test_size=0.15)\n",
        "print(np.shape(x_train),np.shape(x_test), np.shape(y_trai),np.shape(y_tes))\n",
        "y_test_map = np.array(y_tes).T\n",
        "y_test = y_test_map[0]\n",
        "test_filename = y_test_map[1]\n",
        "y_train_map = np.array(y_trai).T\n",
        "y_train = y_train_map[0]\n",
        "train_filename = y_train_map[1]\n",
        "print(np.shape(y_train),np.shape(y_test))\n",
        "print(*test_filename,sep=\"\\n\")"
      ],
      "metadata": {
        "colab": {
          "base_uri": "https://localhost:8080/"
        },
        "id": "HQjsuu63s4i7",
        "outputId": "b3272f5d-d4f6-47b3-ef50-d75d313f7440"
      },
      "execution_count": null,
      "outputs": [
        {
          "output_type": "stream",
          "name": "stdout",
          "text": [
            "(625, 180) (111, 180) (625, 2) (111, 2)\n",
            "(625,) (111,)\n",
            "03-01-03-02-01-01-01.wav\n",
            "03-01-07-02-02-01-08.wav\n",
            "03-01-06-01-01-02-09.wav\n",
            "03-01-06-01-02-02-19.wav\n",
            "03-01-02-01-01-02-02.wav\n",
            "03-01-03-02-01-02-20.wav\n",
            "03-01-06-02-02-01-05.wav\n",
            "03-01-06-01-01-02-02.wav\n",
            "03-01-06-02-02-01-04.wav\n",
            "03-01-03-02-01-01-11.wav\n",
            "03-01-07-01-02-02-07.wav\n",
            "03-01-03-01-01-02-11.wav\n",
            "03-01-07-01-02-02-06.wav\n",
            "03-01-03-02-01-01-06.wav\n",
            "03-01-02-01-02-01-01.wav\n",
            "03-01-02-01-02-02-21.wav\n",
            "03-01-02-01-01-02-15.wav\n",
            "03-01-07-01-01-01-17.wav\n",
            "03-01-02-01-01-02-13.wav\n",
            "03-01-03-02-02-01-22.wav\n",
            "03-01-02-02-02-02-02.wav\n",
            "03-01-02-01-01-01-12.wav\n",
            "03-01-07-01-02-02-15.wav\n",
            "03-01-07-02-01-02-24.wav\n",
            "03-01-06-01-02-01-18.wav\n",
            "03-01-02-01-01-02-18.wav\n",
            "03-01-03-02-02-02-04.wav\n",
            "03-01-06-01-01-02-04.wav\n",
            "03-01-07-02-02-01-22.wav\n",
            "03-01-03-02-02-02-24.wav\n",
            "03-01-02-02-01-02-24.wav\n",
            "03-01-07-01-02-02-22.wav\n",
            "03-01-02-02-01-01-10.wav\n",
            "03-01-06-01-01-02-19.wav\n",
            "03-01-02-01-01-02-12.wav\n",
            "03-01-07-01-02-01-07.wav\n",
            "03-01-06-01-01-02-18.wav\n",
            "03-01-03-02-02-01-01.wav\n",
            "03-01-02-01-02-02-07.wav\n",
            "03-01-07-02-01-01-02.wav\n",
            "03-01-07-01-01-02-04.wav\n",
            "03-01-07-01-01-01-14.wav\n",
            "03-01-06-01-02-02-17.wav\n",
            "03-01-02-02-01-02-11.wav\n",
            "03-01-06-02-02-01-15.wav\n",
            "03-01-07-01-01-02-23.wav\n",
            "03-01-06-02-02-01-21.wav\n",
            "03-01-07-01-01-02-07.wav\n",
            "03-01-03-01-02-02-13.wav\n",
            "03-01-06-01-02-02-05.wav\n",
            "03-01-02-02-01-01-19.wav\n",
            "03-01-02-02-02-02-01.wav\n",
            "03-01-02-02-01-01-09.wav\n",
            "03-01-07-01-01-01-10.wav\n",
            "03-01-07-02-01-02-05.wav\n",
            "03-01-06-02-02-01-11.wav\n",
            "03-01-06-02-01-01-17.wav\n",
            "03-01-02-02-02-01-09.wav\n",
            "03-01-03-01-02-01-21.wav\n",
            "03-01-07-02-02-02-20.wav\n",
            "03-01-03-01-01-02-24.wav\n",
            "03-01-03-02-01-02-11.wav\n",
            "03-01-06-02-01-01-18.wav\n",
            "03-01-06-02-01-02-21.wav\n",
            "03-01-06-02-02-01-19.wav\n",
            "03-01-03-02-02-02-15.wav\n",
            "03-01-02-02-02-01-17.wav\n",
            "03-01-06-02-02-01-24.wav\n",
            "03-01-02-02-02-01-06.wav\n",
            "03-01-06-01-02-02-02.wav\n",
            "03-01-07-01-01-01-06.wav\n",
            "03-01-03-01-01-01-17.wav\n",
            "03-01-03-01-02-01-14.wav\n",
            "03-01-02-02-02-01-01.wav\n",
            "03-01-07-02-01-01-18.wav\n",
            "03-01-03-02-02-02-07.wav\n",
            "03-01-03-02-02-01-14.wav\n",
            "03-01-03-02-01-01-17.wav\n",
            "03-01-02-01-02-01-04.wav\n",
            "03-01-02-02-01-01-12.wav\n",
            "03-01-03-01-02-02-14.wav\n",
            "03-01-02-01-01-02-23.wav\n",
            "03-01-06-02-01-01-20.wav\n",
            "03-01-06-02-01-01-04.wav\n",
            "03-01-03-01-01-02-18.wav\n",
            "03-01-07-01-01-01-20.wav\n",
            "03-01-03-01-02-02-15.wav\n",
            "03-01-07-01-01-01-22.wav\n",
            "03-01-06-02-01-01-09.wav\n",
            "03-01-07-01-02-02-01.wav\n",
            "03-01-03-01-02-02-24.wav\n",
            "03-01-07-02-01-02-04.wav\n",
            "03-01-06-02-02-02-02.wav\n",
            "03-01-07-01-01-02-12.wav\n",
            "03-01-03-02-02-01-06.wav\n",
            "03-01-02-02-01-01-17.wav\n",
            "03-01-03-02-01-02-02.wav\n",
            "03-01-07-01-01-01-04.wav\n",
            "03-01-02-02-01-01-02.wav\n",
            "03-01-06-02-01-02-01.wav\n",
            "03-01-02-01-02-01-20.wav\n",
            "03-01-06-01-01-02-23.wav\n",
            "03-01-03-02-01-01-09.wav\n",
            "03-01-06-01-02-02-03.wav\n",
            "03-01-07-02-02-01-23.wav\n",
            "03-01-03-02-02-02-08.wav\n",
            "03-01-06-02-01-01-24.wav\n",
            "03-01-02-01-02-02-09.wav\n",
            "03-01-06-01-02-01-17.wav\n",
            "03-01-03-02-01-02-12.wav\n",
            "03-01-06-02-01-01-05.wav\n"
          ]
        }
      ]
    },
    {
      "cell_type": "code",
      "source": [
        "#Get the shape of the training and testing datasets\n",
        "# print((x_train.shape[0], x_test.shape[0]))\n",
        "print((x_train[0], x_test[0]))\n",
        "print((x_train.shape[0], x_test.shape[0]))\n",
        "#Get the number of features extracted\n",
        "print(f'Features extracted: {x_train.shape[1]}')"
      ],
      "metadata": {
        "colab": {
          "base_uri": "https://localhost:8080/"
        },
        "id": "Z21_VQ7os634",
        "outputId": "1cef546c-0cea-4277-83c3-fdbfc12a1818"
      },
      "execution_count": null,
      "outputs": [
        {
          "output_type": "stream",
          "name": "stdout",
          "text": [
            "(array([-2.18390244e+02,  3.74150124e+01, -6.37748146e+01,  1.59183550e+01,\n",
            "       -3.00963478e+01, -2.30383816e+01, -3.12656689e+01, -3.57604637e+01,\n",
            "       -6.94720650e+00, -1.85371838e+01, -2.29447899e+01,  4.58464050e+00,\n",
            "       -1.06219997e+01,  1.83856697e+01, -1.74620962e+00,  1.41900511e+01,\n",
            "        1.45657692e+01,  6.09453678e+00,  2.49503469e+00,  1.11287193e+01,\n",
            "       -1.37202531e-01,  2.49402881e+00, -1.11175370e+00,  8.60968173e-01,\n",
            "       -5.15002680e+00,  1.56028700e+00, -6.00139713e+00,  2.58057666e+00,\n",
            "       -3.18782139e+00, -1.18974721e+00, -4.39024448e+00,  4.16844893e+00,\n",
            "       -4.86300278e+00,  4.64808512e+00, -3.14665651e+00,  2.77286553e+00,\n",
            "       -2.12462330e+00,  3.57387066e+00, -8.32439840e-01, -1.77118778e+00,\n",
            "        3.53982121e-01,  3.84131014e-01,  3.61878037e-01,  3.81937027e-01,\n",
            "        4.36897904e-01,  4.68189120e-01,  4.98520851e-01,  5.58137596e-01,\n",
            "        6.51815116e-01,  6.65794551e-01,  5.76719999e-01,  3.96059960e-01,\n",
            "        1.02497656e-02,  1.06592262e-02,  8.87317862e-03,  2.99618300e-03,\n",
            "        3.13997362e-03,  3.13628628e-03,  2.86965561e-03,  1.90590962e-03,\n",
            "        7.33072544e-03,  1.20879300e-02,  2.22253248e-01,  7.62131035e-01,\n",
            "        1.44755661e+00,  4.21787310e+00,  1.29723272e+01,  4.38457451e+01,\n",
            "        7.77869568e+01,  7.84829483e+01,  3.33741646e+01,  4.70061417e+01,\n",
            "        2.12443638e+01,  7.01366091e+00,  1.15532608e+01,  1.42941961e+01,\n",
            "        3.87057710e+00,  2.34101772e+00,  1.55882680e+00,  4.06473970e+00,\n",
            "        5.89241362e+00,  4.77463341e+00,  4.00052738e+00,  5.27779150e+00,\n",
            "        2.44365025e+00,  2.06331539e+00,  2.97029161e+00,  2.98045778e+00,\n",
            "        2.56309414e+00,  2.14118624e+00,  2.51886678e+00,  1.54074574e+00,\n",
            "        2.97558880e+00,  3.12864804e+00,  3.10266328e+00,  4.73511696e+00,\n",
            "        3.14096689e+00,  1.82591927e+00,  7.42143059e+00,  7.17026281e+00,\n",
            "        1.95514977e+00,  1.26301050e+00,  1.86893058e+00,  1.14623749e+00,\n",
            "        1.35901046e+00,  9.60216904e+00,  7.02851057e+00,  3.26665926e+00,\n",
            "        4.09570408e+00,  2.12079525e+00,  1.19269466e+00,  8.74661326e-01,\n",
            "        9.29452479e-01,  1.28811777e+00,  3.06848860e+00,  3.75306439e+00,\n",
            "        3.91014099e+00,  2.06513333e+00,  6.03133154e+00,  1.32985029e+01,\n",
            "        1.05290318e+01,  5.90940237e-01,  4.09749091e-01,  5.48074007e-01,\n",
            "        1.18686950e+00,  4.51936841e-01,  3.50879878e-01,  3.77022207e-01,\n",
            "        3.89551997e-01,  2.60427892e-01,  2.95634776e-01,  5.46384394e-01,\n",
            "        9.00147438e-01,  5.77667773e-01,  5.64569533e-01,  5.37614584e-01,\n",
            "        5.05918562e-01,  3.89169276e-01,  2.46032715e-01,  1.39653519e-01,\n",
            "        1.09261736e-01,  1.53737605e-01,  4.06843603e-01,  8.77864659e-01,\n",
            "        1.26587546e+00,  9.79272008e-01,  1.01779795e+00,  1.80359030e+00,\n",
            "        1.14118946e+00,  8.03421736e-01,  2.40165845e-01,  2.00354785e-01,\n",
            "        1.33699238e-01,  8.72738734e-02,  4.52419594e-02,  1.15285106e-02,\n",
            "        1.32311471e-02,  8.13360233e-03,  6.89922599e-03,  4.46383329e-03,\n",
            "        3.91529500e-03,  3.45063629e-03,  2.54740613e-03,  2.13070377e-03,\n",
            "        5.57113625e-03,  1.18931849e-02,  1.37865618e-02,  1.73230171e-02,\n",
            "        2.25424338e-02,  1.65955629e-02,  1.18858693e-02,  8.24347138e-03,\n",
            "        5.78892464e-03,  9.58666857e-03,  1.49739468e-02,  1.56865083e-02,\n",
            "        5.50511898e-03,  1.32985949e-03,  1.42834630e-04,  1.35438108e-06]), array([-3.71259216e+02,  8.67141190e+01, -2.13824272e+01,  1.02416582e+01,\n",
            "       -1.52968292e+01, -1.28021450e+01, -3.58550339e+01, -1.43678818e+01,\n",
            "       -3.38392105e+01,  3.40368843e+00, -2.35700912e+01,  3.43926954e+00,\n",
            "       -2.13880653e+01, -3.54600787e+00, -1.46946096e+01, -1.13146229e+01,\n",
            "       -8.70526314e+00, -8.15274525e+00, -1.57812786e+01, -3.48157740e+00,\n",
            "       -1.32552538e+01, -8.35275936e+00, -8.75351429e+00, -2.55740547e+00,\n",
            "       -1.84157097e+00,  8.51410866e+00, -1.50184882e+00, -1.26735687e-01,\n",
            "       -7.35859823e+00,  1.44697738e+00,  7.24586189e-01,  9.20174599e+00,\n",
            "        9.84987068e+00,  5.20341063e+00, -2.46031451e+00, -2.06085277e+00,\n",
            "       -1.05032957e+00,  3.89415979e+00, -2.39930600e-02,  1.91707611e+00,\n",
            "        5.29216886e-01,  4.88774002e-01,  5.94721794e-01,  5.68540931e-01,\n",
            "        5.23339808e-01,  5.62608242e-01,  5.83702147e-01,  6.53344214e-01,\n",
            "        5.56695282e-01,  4.94101942e-01,  5.45137048e-01,  6.31336868e-01,\n",
            "        3.59144542e-06,  6.91269233e-05,  1.98809823e-04,  7.07841013e-04,\n",
            "        2.62789917e-03,  3.19143794e-02,  1.47215515e-01,  2.89327204e-01,\n",
            "        3.28353256e-01,  4.70518947e-01,  5.05824983e-01,  1.11088380e-01,\n",
            "        2.83662733e-02,  4.04827669e-02,  4.81862240e-02,  3.08738530e-01,\n",
            "        4.61358607e-01,  1.31377146e-01,  8.90889689e-02,  2.17510223e-01,\n",
            "        4.05910820e-01,  4.39782709e-01,  1.83636457e-01,  2.71763474e-01,\n",
            "        6.41010880e-01,  1.98319018e-01,  6.74027205e-02,  5.43289855e-02,\n",
            "        1.35186076e-01,  1.86779484e-01,  5.71917355e-01,  2.69212812e-01,\n",
            "        1.09715231e-01,  4.55674082e-02,  8.17766972e-03,  9.78122000e-03,\n",
            "        2.43528690e-02,  3.08986511e-02,  4.62474413e-02,  6.69978335e-02,\n",
            "        1.30517751e-01,  1.27443343e-01,  2.38016099e-02,  8.18747561e-03,\n",
            "        4.79644490e-03,  4.89020254e-03,  1.82367694e-02,  1.09732449e-01,\n",
            "        1.84141830e-01,  2.32099965e-01,  2.02935204e-01,  3.49629186e-02,\n",
            "        1.33609008e-02,  1.18919564e-02,  2.88360231e-02,  3.51469778e-02,\n",
            "        1.64755359e-02,  5.96297625e-03,  4.06902190e-03,  4.37184935e-03,\n",
            "        2.54819300e-02,  4.01936620e-02,  4.82522789e-03,  4.87860711e-03,\n",
            "        8.57798941e-03,  6.14044163e-03,  4.22224961e-03,  1.68450724e-03,\n",
            "        2.73595774e-03,  4.29976359e-03,  4.74125519e-03,  5.65485470e-03,\n",
            "        3.51198344e-03,  3.20133031e-03,  2.82682781e-03,  1.99360773e-03,\n",
            "        3.18569480e-03,  6.88895583e-03,  8.50884710e-03,  2.92932545e-03,\n",
            "        3.41843022e-03,  3.19978222e-03,  2.13368121e-03,  1.65100594e-03,\n",
            "        8.14611849e-04,  1.05083745e-03,  1.09233684e-03,  7.67571910e-04,\n",
            "        5.55054750e-04,  1.13420747e-03,  1.25058799e-03,  7.24226004e-04,\n",
            "        1.01909018e-03,  7.71319203e-04,  1.36354018e-03,  2.59707985e-03,\n",
            "        1.69127109e-03,  1.67833432e-03,  9.81791527e-04,  3.81623948e-04,\n",
            "        3.80077487e-04,  3.32543248e-04,  4.23797872e-04,  5.23315335e-04,\n",
            "        5.93805569e-04,  1.05144270e-03,  7.51545071e-04,  8.85292189e-04,\n",
            "        7.86012446e-04,  8.58178828e-04,  8.00366339e-04,  8.59395892e-04,\n",
            "        6.62806968e-04,  6.25308137e-04,  4.17370378e-04,  3.77723103e-04,\n",
            "        3.92824732e-04,  4.66043275e-04,  3.78674042e-04,  2.29114841e-04,\n",
            "        2.44562572e-04,  2.94067460e-04,  1.75895009e-04,  1.29384251e-04,\n",
            "        7.20096650e-05,  2.02715764e-05,  1.02000331e-06,  2.38947369e-08]))\n",
            "(625, 111)\n",
            "Features extracted: 180\n"
          ]
        }
      ]
    },
    {
      "cell_type": "code",
      "source": [
        "# Initialize the Multi Layer Perceptron Classifier\n",
        "model=MLPClassifier(alpha=0.01, batch_size=256, epsilon=1e-08, hidden_layer_sizes=(300,), learning_rate='adaptive', max_iter=500)"
      ],
      "metadata": {
        "id": "gn14inuJtHBm"
      },
      "execution_count": null,
      "outputs": []
    },
    {
      "cell_type": "code",
      "source": [
        "#Train the model\n",
        "model.fit(x_train,y_train)"
      ],
      "metadata": {
        "colab": {
          "base_uri": "https://localhost:8080/"
        },
        "id": "_zKQ_b0UtJ5n",
        "outputId": "1f33bca0-0d12-413a-c9cd-a12a7b1bb7a3"
      },
      "execution_count": null,
      "outputs": [
        {
          "output_type": "execute_result",
          "data": {
            "text/plain": [
              "MLPClassifier(alpha=0.01, batch_size=256, hidden_layer_sizes=(300,),\n",
              "              learning_rate='adaptive', max_iter=500)"
            ]
          },
          "metadata": {},
          "execution_count": 11
        }
      ]
    },
    {
      "cell_type": "code",
      "source": [
        "#predicting :\n",
        "y_pred=model.predict(x_test)\n",
        "y_pred"
      ],
      "metadata": {
        "colab": {
          "base_uri": "https://localhost:8080/"
        },
        "id": "W0Vo7nFjsc7O",
        "outputId": "21cba15a-a364-4e5e-90c2-bfe0f7a55497"
      },
      "execution_count": null,
      "outputs": [
        {
          "output_type": "execute_result",
          "data": {
            "text/plain": [
              "array(['happy', 'disgust', 'fearful', 'fearful', 'calm', 'happy',\n",
              "       'fearful', 'fearful', 'fearful', 'happy', 'disgust', 'calm',\n",
              "       'calm', 'fearful', 'calm', 'calm', 'calm', 'disgust', 'calm',\n",
              "       'happy', 'calm', 'calm', 'disgust', 'disgust', 'fearful', 'calm',\n",
              "       'happy', 'happy', 'disgust', 'happy', 'calm', 'disgust', 'calm',\n",
              "       'fearful', 'calm', 'calm', 'fearful', 'happy', 'calm', 'disgust',\n",
              "       'disgust', 'disgust', 'disgust', 'calm', 'fearful', 'disgust',\n",
              "       'fearful', 'disgust', 'happy', 'happy', 'calm', 'calm', 'calm',\n",
              "       'disgust', 'disgust', 'fearful', 'fearful', 'calm', 'happy',\n",
              "       'disgust', 'happy', 'disgust', 'fearful', 'fearful', 'fearful',\n",
              "       'happy', 'calm', 'fearful', 'calm', 'fearful', 'calm', 'happy',\n",
              "       'fearful', 'calm', 'disgust', 'fearful', 'happy', 'happy', 'calm',\n",
              "       'calm', 'fearful', 'calm', 'fearful', 'fearful', 'happy',\n",
              "       'disgust', 'happy', 'disgust', 'disgust', 'disgust', 'happy',\n",
              "       'disgust', 'fearful', 'disgust', 'happy', 'calm', 'happy',\n",
              "       'disgust', 'calm', 'fearful', 'calm', 'fearful', 'happy', 'calm',\n",
              "       'happy', 'happy', 'fearful', 'calm', 'fearful', 'happy', 'happy'],\n",
              "      dtype='<U7')"
            ]
          },
          "metadata": {},
          "execution_count": 12
        }
      ]
    },
    {
      "cell_type": "code",
      "source": [
        "#Calculate the accuracy of our model\n",
        "accuracy=accuracy_score(y_true=y_test, y_pred=y_pred)\n",
        "\n",
        "#Print the accuracy\n",
        "print(\"Accuracy: {:.2f}%\".format(accuracy*100))"
      ],
      "metadata": {
        "colab": {
          "base_uri": "https://localhost:8080/"
        },
        "id": "MaISeE7LtNhE",
        "outputId": "bf68897e-4a68-498c-8148-2b01a84d4cd9"
      },
      "execution_count": null,
      "outputs": [
        {
          "output_type": "stream",
          "name": "stdout",
          "text": [
            "Accuracy: 85.59%\n"
          ]
        }
      ]
    },
    {
      "cell_type": "code",
      "source": [
        "import pandas as pd\n",
        "df=pd.DataFrame({'Actual': y_test, 'Predicted':y_pred})\n",
        "df.head(20)"
      ],
      "metadata": {
        "colab": {
          "base_uri": "https://localhost:8080/",
          "height": 676
        },
        "id": "n_4VJTpWtRLA",
        "outputId": "5a1dc0aa-0182-46ce-a61e-72d1b68a2803"
      },
      "execution_count": null,
      "outputs": [
        {
          "output_type": "execute_result",
          "data": {
            "text/plain": [
              "     Actual Predicted\n",
              "0     happy     happy\n",
              "1   disgust   disgust\n",
              "2   fearful   fearful\n",
              "3   fearful   fearful\n",
              "4      calm      calm\n",
              "5     happy     happy\n",
              "6   fearful   fearful\n",
              "7   fearful   fearful\n",
              "8   fearful   fearful\n",
              "9     happy     happy\n",
              "10  disgust   disgust\n",
              "11    happy      calm\n",
              "12  disgust      calm\n",
              "13    happy   fearful\n",
              "14     calm      calm\n",
              "15     calm      calm\n",
              "16     calm      calm\n",
              "17  disgust   disgust\n",
              "18     calm      calm\n",
              "19    happy     happy"
            ],
            "text/html": [
              "\n",
              "  <div id=\"df-f1405f7d-7bb8-409e-a240-5a1c73bb3c1e\">\n",
              "    <div class=\"colab-df-container\">\n",
              "      <div>\n",
              "<style scoped>\n",
              "    .dataframe tbody tr th:only-of-type {\n",
              "        vertical-align: middle;\n",
              "    }\n",
              "\n",
              "    .dataframe tbody tr th {\n",
              "        vertical-align: top;\n",
              "    }\n",
              "\n",
              "    .dataframe thead th {\n",
              "        text-align: right;\n",
              "    }\n",
              "</style>\n",
              "<table border=\"1\" class=\"dataframe\">\n",
              "  <thead>\n",
              "    <tr style=\"text-align: right;\">\n",
              "      <th></th>\n",
              "      <th>Actual</th>\n",
              "      <th>Predicted</th>\n",
              "    </tr>\n",
              "  </thead>\n",
              "  <tbody>\n",
              "    <tr>\n",
              "      <th>0</th>\n",
              "      <td>happy</td>\n",
              "      <td>happy</td>\n",
              "    </tr>\n",
              "    <tr>\n",
              "      <th>1</th>\n",
              "      <td>disgust</td>\n",
              "      <td>disgust</td>\n",
              "    </tr>\n",
              "    <tr>\n",
              "      <th>2</th>\n",
              "      <td>fearful</td>\n",
              "      <td>fearful</td>\n",
              "    </tr>\n",
              "    <tr>\n",
              "      <th>3</th>\n",
              "      <td>fearful</td>\n",
              "      <td>fearful</td>\n",
              "    </tr>\n",
              "    <tr>\n",
              "      <th>4</th>\n",
              "      <td>calm</td>\n",
              "      <td>calm</td>\n",
              "    </tr>\n",
              "    <tr>\n",
              "      <th>5</th>\n",
              "      <td>happy</td>\n",
              "      <td>happy</td>\n",
              "    </tr>\n",
              "    <tr>\n",
              "      <th>6</th>\n",
              "      <td>fearful</td>\n",
              "      <td>fearful</td>\n",
              "    </tr>\n",
              "    <tr>\n",
              "      <th>7</th>\n",
              "      <td>fearful</td>\n",
              "      <td>fearful</td>\n",
              "    </tr>\n",
              "    <tr>\n",
              "      <th>8</th>\n",
              "      <td>fearful</td>\n",
              "      <td>fearful</td>\n",
              "    </tr>\n",
              "    <tr>\n",
              "      <th>9</th>\n",
              "      <td>happy</td>\n",
              "      <td>happy</td>\n",
              "    </tr>\n",
              "    <tr>\n",
              "      <th>10</th>\n",
              "      <td>disgust</td>\n",
              "      <td>disgust</td>\n",
              "    </tr>\n",
              "    <tr>\n",
              "      <th>11</th>\n",
              "      <td>happy</td>\n",
              "      <td>calm</td>\n",
              "    </tr>\n",
              "    <tr>\n",
              "      <th>12</th>\n",
              "      <td>disgust</td>\n",
              "      <td>calm</td>\n",
              "    </tr>\n",
              "    <tr>\n",
              "      <th>13</th>\n",
              "      <td>happy</td>\n",
              "      <td>fearful</td>\n",
              "    </tr>\n",
              "    <tr>\n",
              "      <th>14</th>\n",
              "      <td>calm</td>\n",
              "      <td>calm</td>\n",
              "    </tr>\n",
              "    <tr>\n",
              "      <th>15</th>\n",
              "      <td>calm</td>\n",
              "      <td>calm</td>\n",
              "    </tr>\n",
              "    <tr>\n",
              "      <th>16</th>\n",
              "      <td>calm</td>\n",
              "      <td>calm</td>\n",
              "    </tr>\n",
              "    <tr>\n",
              "      <th>17</th>\n",
              "      <td>disgust</td>\n",
              "      <td>disgust</td>\n",
              "    </tr>\n",
              "    <tr>\n",
              "      <th>18</th>\n",
              "      <td>calm</td>\n",
              "      <td>calm</td>\n",
              "    </tr>\n",
              "    <tr>\n",
              "      <th>19</th>\n",
              "      <td>happy</td>\n",
              "      <td>happy</td>\n",
              "    </tr>\n",
              "  </tbody>\n",
              "</table>\n",
              "</div>\n",
              "      <button class=\"colab-df-convert\" onclick=\"convertToInteractive('df-f1405f7d-7bb8-409e-a240-5a1c73bb3c1e')\"\n",
              "              title=\"Convert this dataframe to an interactive table.\"\n",
              "              style=\"display:none;\">\n",
              "        \n",
              "  <svg xmlns=\"http://www.w3.org/2000/svg\" height=\"24px\"viewBox=\"0 0 24 24\"\n",
              "       width=\"24px\">\n",
              "    <path d=\"M0 0h24v24H0V0z\" fill=\"none\"/>\n",
              "    <path d=\"M18.56 5.44l.94 2.06.94-2.06 2.06-.94-2.06-.94-.94-2.06-.94 2.06-2.06.94zm-11 1L8.5 8.5l.94-2.06 2.06-.94-2.06-.94L8.5 2.5l-.94 2.06-2.06.94zm10 10l.94 2.06.94-2.06 2.06-.94-2.06-.94-.94-2.06-.94 2.06-2.06.94z\"/><path d=\"M17.41 7.96l-1.37-1.37c-.4-.4-.92-.59-1.43-.59-.52 0-1.04.2-1.43.59L10.3 9.45l-7.72 7.72c-.78.78-.78 2.05 0 2.83L4 21.41c.39.39.9.59 1.41.59.51 0 1.02-.2 1.41-.59l7.78-7.78 2.81-2.81c.8-.78.8-2.07 0-2.86zM5.41 20L4 18.59l7.72-7.72 1.47 1.35L5.41 20z\"/>\n",
              "  </svg>\n",
              "      </button>\n",
              "      \n",
              "  <style>\n",
              "    .colab-df-container {\n",
              "      display:flex;\n",
              "      flex-wrap:wrap;\n",
              "      gap: 12px;\n",
              "    }\n",
              "\n",
              "    .colab-df-convert {\n",
              "      background-color: #E8F0FE;\n",
              "      border: none;\n",
              "      border-radius: 50%;\n",
              "      cursor: pointer;\n",
              "      display: none;\n",
              "      fill: #1967D2;\n",
              "      height: 32px;\n",
              "      padding: 0 0 0 0;\n",
              "      width: 32px;\n",
              "    }\n",
              "\n",
              "    .colab-df-convert:hover {\n",
              "      background-color: #E2EBFA;\n",
              "      box-shadow: 0px 1px 2px rgba(60, 64, 67, 0.3), 0px 1px 3px 1px rgba(60, 64, 67, 0.15);\n",
              "      fill: #174EA6;\n",
              "    }\n",
              "\n",
              "    [theme=dark] .colab-df-convert {\n",
              "      background-color: #3B4455;\n",
              "      fill: #D2E3FC;\n",
              "    }\n",
              "\n",
              "    [theme=dark] .colab-df-convert:hover {\n",
              "      background-color: #434B5C;\n",
              "      box-shadow: 0px 1px 3px 1px rgba(0, 0, 0, 0.15);\n",
              "      filter: drop-shadow(0px 1px 2px rgba(0, 0, 0, 0.3));\n",
              "      fill: #FFFFFF;\n",
              "    }\n",
              "  </style>\n",
              "\n",
              "      <script>\n",
              "        const buttonEl =\n",
              "          document.querySelector('#df-f1405f7d-7bb8-409e-a240-5a1c73bb3c1e button.colab-df-convert');\n",
              "        buttonEl.style.display =\n",
              "          google.colab.kernel.accessAllowed ? 'block' : 'none';\n",
              "\n",
              "        async function convertToInteractive(key) {\n",
              "          const element = document.querySelector('#df-f1405f7d-7bb8-409e-a240-5a1c73bb3c1e');\n",
              "          const dataTable =\n",
              "            await google.colab.kernel.invokeFunction('convertToInteractive',\n",
              "                                                     [key], {});\n",
              "          if (!dataTable) return;\n",
              "\n",
              "          const docLinkHtml = 'Like what you see? Visit the ' +\n",
              "            '<a target=\"_blank\" href=https://colab.research.google.com/notebooks/data_table.ipynb>data table notebook</a>'\n",
              "            + ' to learn more about interactive tables.';\n",
              "          element.innerHTML = '';\n",
              "          dataTable['output_type'] = 'display_data';\n",
              "          await google.colab.output.renderOutput(dataTable, element);\n",
              "          const docLink = document.createElement('div');\n",
              "          docLink.innerHTML = docLinkHtml;\n",
              "          element.appendChild(docLink);\n",
              "        }\n",
              "      </script>\n",
              "    </div>\n",
              "  </div>\n",
              "  "
            ]
          },
          "metadata": {},
          "execution_count": 14
        }
      ]
    },
    {
      "cell_type": "code",
      "source": [
        "import pickle\n",
        "# Writing different model files to file\n",
        "with open( 'modelForPrediction1.sav', 'wb') as f:\n",
        "    pickle.dump(model,f)"
      ],
      "metadata": {
        "id": "vEYL_ZCvtWjU"
      },
      "execution_count": null,
      "outputs": []
    },
    {
      "cell_type": "code",
      "source": [
        "filename = 'modelForPrediction1.sav'\n",
        "loaded_model = pickle.load(open(filename, 'rb')) # loading the model file from the storage\n",
        "\n",
        "feature=extract_feature(\"/content/03-01-08-02-02-01-17.wav\", mfcc=True, chroma=True, mel=True)\n",
        "\n",
        "feature=feature.reshape(1,-1)\n",
        "\n",
        "prediction=loaded_model.predict(feature)\n",
        "prediction"
      ],
      "metadata": {
        "colab": {
          "base_uri": "https://localhost:8080/"
        },
        "id": "hVYmzAnBtXZG",
        "outputId": "d2908090-a7b9-4ac2-c860-ac40dd539d8a"
      },
      "execution_count": null,
      "outputs": [
        {
          "output_type": "execute_result",
          "data": {
            "text/plain": [
              "array(['disgust'], dtype='<U7')"
            ]
          },
          "metadata": {},
          "execution_count": 17
        }
      ]
    },
    {
      "cell_type": "code",
      "source": [
        "#to check"
      ],
      "metadata": {
        "id": "yTHfaFQMWglM"
      },
      "execution_count": null,
      "outputs": []
    }
  ]
}